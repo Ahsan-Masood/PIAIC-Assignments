{
 "cells": [
  {
   "cell_type": "markdown",
   "metadata": {},
   "source": [
    "## Write code to get input from user & store in dictionary & then store that dictionary in list."
   ]
  },
  {
   "cell_type": "code",
   "execution_count": 2,
   "metadata": {},
   "outputs": [
    {
     "name": "stdout",
     "output_type": "stream",
     "text": [
      "Enter Key & Value separated by \":\" name : Hamza Ali\n",
      "Enter Key & Value separated by \":\" age : 25\n",
      "Enter Key & Value separated by \":\" work : A.I\n",
      "Enter Key & Value separated by \":\" skills : [\"python\", \"tensorflow\", \"cloud\"]\n",
      "Enter Key & Value separated by \":\" degree : {\"title\" : \"BS\", \"major\" : \"computer Science\", \"completionDate\" : \"Jun 2019\"}\n",
      "Enter Key & Value separated by \":\" salary : 259999\n",
      "{'name ': ' Hamza Ali', 'age ': ' 25', 'work ': ' A.I', 'skills ': ' [\"python\", \"tensorflow\", \"cloud\"]', 'degree ': ' {\"title\" : \"BS\", \"major\" : \"computer Science\", \"completionDate\" : \"Jun 2019\"}', 'salary ': ' 259999'}\n",
      "Enter Key & Value separated by \":\" name : Farooq Aziz\n",
      "Enter Key & Value separated by \":\" age : 27\n",
      "Enter Key & Value separated by \":\" work : Cloud Native\n",
      "Enter Key & Value separated by \":\" skills : [\"ubuntu\", \"docker\", \"kubernetes\"]\n",
      "Enter Key & Value separated by \":\" degree : {\"title\" : \"MS\", \"major\" : \"Software engineer\", \"completionDate\" : \"May 2018\"}\n",
      "Enter Key & Value separated by \":\" salary : 200000\n",
      "{'name ': ' Farooq Aziz', 'age ': ' 27', 'work ': ' Cloud Native', 'skills ': ' [\"ubuntu\", \"docker\", \"kubernetes\"]', 'degree ': ' {\"title\" : \"MS\", \"major\" : \"Software engineer\", \"completionDate\" : \"May 2018\"}', 'salary ': ' 200000'}\n",
      "Enter Key & Value separated by \":\" name : Abu Bakr\n",
      "Enter Key & Value separated by \":\" age : 30\n",
      "Enter Key & Value separated by \":\" work : Blockchain\n",
      "Enter Key & Value separated by \":\" skills : [\"python\", \"Cryptography\", \"Ethereum\"]\n",
      "Enter Key & Value separated by \":\" degree : {\"title\" : \"BS\", \"major\" : \"computer Science\", \"completionDate\" : \"May 2019\"}\n",
      "Enter Key & Value separated by \":\" salary : 300000\n",
      "{'name ': ' Abu Bakr', 'age ': ' 30', 'work ': ' Blockchain', 'skills ': ' [\"python\", \"Cryptography\", \"Ethereum\"]', 'degree ': ' {\"title\" : \"BS\", \"major\" : \"computer Science\", \"completionDate\" : \"May 2019\"}', 'salary ': ' 300000'}\n"
     ]
    }
   ],
   "source": [
    "employee1 = {}\n",
    "\n",
    "for x in range(1, 7):\n",
    "\n",
    "    data = input('Enter Key & Value separated by \":\" ')\n",
    "    temp = data.split(':', 1)                               #It just splits at first instance\n",
    "    employee1[temp[0]] = str(temp[1])\n",
    "\n",
    "\n",
    "    for key, value in employee1.items():\n",
    "        'Key: {}, Value: {}'.format(key, value)\n",
    "            \n",
    "print(\"\\n\", employee1, \"\\n\")\n",
    "\n",
    "employee2 = {}\n",
    "\n",
    "for x in range(1, 7):\n",
    "\n",
    "    data = input('Enter Key & Value separated by \":\" ')\n",
    "    temp = data.split(':', 1)                               #It just splits at first instance\n",
    "    employee2[temp[0]] = str(temp[1])\n",
    "\n",
    "\n",
    "    for key, value in employee2.items():\n",
    "        'Key: {}, Value: {}'.format(key, value)\n",
    "\n",
    "print(\"\\n\", employee2,\"\\n\")\n",
    "\n",
    "\n",
    "employee3 = {}\n",
    "\n",
    "for x in range(1, 7):\n",
    "\n",
    "    data = input('Enter Key & Value separated by \":\" ')\n",
    "    temp = data.split(':', 1)                               #It just splits at first instance\n",
    "    employee3[temp[0]] = str(temp[1])\n",
    "\n",
    "\n",
    "    for key, value in employee3.items():\n",
    "        'Key: {}, Value: {}'.format(key, value)\n",
    "        \n",
    "print(\"\\n\",employee3,\"\\n\")"
   ]
  },
  {
   "cell_type": "code",
   "execution_count": 8,
   "metadata": {},
   "outputs": [
    {
     "name": "stdout",
     "output_type": "stream",
     "text": [
      "[({'name ': ' Hamza Ali', 'age ': ' 25', 'work ': ' A.I', 'skills ': ' [\"python\", \"tensorflow\", \"cloud\"]', 'degree ': ' {\"title\" : \"BS\", \"major\" : \"computer Science\", \"completionDate\" : \"Jun 2019\"}', 'salary ': ' 259999'}, {'name ': ' Farooq Aziz', 'age ': ' 27', 'work ': ' Cloud Native', 'skills ': ' [\"ubuntu\", \"docker\", \"kubernetes\"]', 'degree ': ' {\"title\" : \"MS\", \"major\" : \"Software engineer\", \"completionDate\" : \"May 2018\"}', 'salary ': ' 200000'}, {'name ': ' Abu Bakr', 'age ': ' 30', 'work ': ' Blockchain', 'skills ': ' [\"python\", \"Cryptography\", \"Ethereum\"]', 'degree ': ' {\"title\" : \"BS\", \"major\" : \"computer Science\", \"completionDate\" : \"May 2019\"}', 'salary ': ' 300000'})] \n",
      "\n"
     ]
    }
   ],
   "source": [
    "employeeDataList = []\n",
    "employees = employee1 , employee2 , employee3\n",
    "\n",
    "employeeDataList.append(employees)\n",
    "\n",
    "print(employeeDataList)"
   ]
  },
  {
   "cell_type": "markdown",
   "metadata": {},
   "source": []
  }
 ],
 "metadata": {
  "kernelspec": {
   "display_name": "Python 3",
   "language": "python",
   "name": "python3"
  },
  "language_info": {
   "codemirror_mode": {
    "name": "ipython",
    "version": 3
   },
   "file_extension": ".py",
   "mimetype": "text/x-python",
   "name": "python",
   "nbconvert_exporter": "python",
   "pygments_lexer": "ipython3",
   "version": "3.7.4"
  }
 },
 "nbformat": 4,
 "nbformat_minor": 2
}
